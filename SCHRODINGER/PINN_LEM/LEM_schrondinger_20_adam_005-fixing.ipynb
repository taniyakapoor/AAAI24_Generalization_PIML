{
 "cells": [
  {
   "cell_type": "code",
   "execution_count": 1,
   "id": "f02249e2",
   "metadata": {},
   "outputs": [],
   "source": [
    "# importing libaries\n",
    "\n",
    "import torch\n",
    "import torch.nn as nn\n",
    "import numpy as np\n",
    "import matplotlib.pyplot as plt\n",
    "import scipy.io"
   ]
  },
  {
   "cell_type": "code",
   "execution_count": 2,
   "id": "7c6ddce9",
   "metadata": {},
   "outputs": [],
   "source": [
    "class LEMCell(nn.Module):\n",
    "    def __init__(self, ninp, nhid, dt):\n",
    "        super(LEMCell, self).__init__()\n",
    "        self.ninp = ninp\n",
    "        self.nhid = nhid\n",
    "        self.dt = dt\n",
    "        self.inp2hid = nn.Linear(ninp, 4 * nhid)\n",
    "        self.hid2hid = nn.Linear(nhid, 3 * nhid)\n",
    "        self.transform_z = nn.Linear(nhid, nhid)\n",
    "        self.reset_parameters()\n",
    "\n",
    "    def reset_parameters(self):\n",
    "        std = 1.0 / np.sqrt(self.nhid)\n",
    "        for w in self.parameters():\n",
    "            w.data.uniform_(-std, std)\n",
    "\n",
    "    def forward(self, x, y, z):\n",
    "        transformed_inp = self.inp2hid(x)\n",
    "        transformed_hid = self.hid2hid(y)\n",
    "        i_dt1, i_dt2, i_z, i_y = transformed_inp.chunk(4, 1)\n",
    "        h_dt1, h_dt2, h_y = transformed_hid.chunk(3, 1)\n",
    "\n",
    "        ms_dt_bar = self.dt * torch.sigmoid(i_dt1 + h_dt1)\n",
    "        ms_dt = self.dt * torch.sigmoid(i_dt2 + h_dt2)\n",
    "\n",
    "        z = (1. - ms_dt) * z + ms_dt * torch.tanh(i_y + h_y)\n",
    "        y = (1. - ms_dt_bar) * y + ms_dt_bar * torch.tanh(self.transform_z(z) + i_z)\n",
    "\n",
    "        return y, z\n",
    "\n",
    "# Define the LEM model\n",
    "class LEM(nn.Module):\n",
    "    def __init__(self, ninp, nhid, nout, dt=1.):\n",
    "        super(LEM, self).__init__()\n",
    "        self.nhid = nhid\n",
    "        self.cell = LEMCell(ninp, nhid, dt)\n",
    "        self.classifier = nn.Linear(nhid, nout)\n",
    "        self.init_weights()\n",
    "\n",
    "    def init_weights(self):\n",
    "        for name, param in self.named_parameters():\n",
    "            if 'classifier' in name and 'weight' in name:\n",
    "                nn.init.kaiming_normal_(param.data)\n",
    "\n",
    "    def forward(self, input):\n",
    "        y = input.data.new(input.size(1), self.nhid).zero_()\n",
    "        z = input.data.new(input.size(1), self.nhid).zero_()\n",
    "        for x in input:\n",
    "            y, z = self.cell(x, y, z)\n",
    "        out = self.classifier(y)\n",
    "        return out"
   ]
  },
  {
   "cell_type": "code",
   "execution_count": 3,
   "id": "36d6fa55",
   "metadata": {},
   "outputs": [],
   "source": [
    "# Toy problem data\n",
    "input_size = 256  # number of columns in a dataset\n",
    "hidden_size = 32  # number of neurons\n",
    "output_size = 256  \n",
    "sequence_length = 160  # number of sequences/ number of rows\n",
    "batch_size = 1\n",
    "num_epochs = 2000"
   ]
  },
  {
   "cell_type": "markdown",
   "id": "519594c6",
   "metadata": {},
   "source": [
    "### importing PINN solution"
   ]
  },
  {
   "cell_type": "code",
   "execution_count": 4,
   "id": "2103e0ff",
   "metadata": {},
   "outputs": [],
   "source": [
    "# Load the .mat file\n",
    "v_data = scipy.io.loadmat('v.mat')\n",
    "h_data = scipy.io.loadmat('h.mat')\n",
    "x_data = scipy.io.loadmat('x.mat')"
   ]
  },
  {
   "cell_type": "code",
   "execution_count": 5,
   "id": "172f53d3",
   "metadata": {},
   "outputs": [],
   "source": [
    "x = x_data['X']\n",
    "u = h_data['h']"
   ]
  },
  {
   "cell_type": "code",
   "execution_count": 6,
   "id": "bf954b1d",
   "metadata": {},
   "outputs": [
    {
     "data": {
      "text/plain": [
       "<torch._C.Generator at 0x7f871c0527b0>"
      ]
     },
     "execution_count": 6,
     "metadata": {},
     "output_type": "execute_result"
    }
   ],
   "source": [
    "# Set random seed for reproducibility\n",
    "torch.manual_seed(42)"
   ]
  },
  {
   "cell_type": "code",
   "execution_count": 7,
   "id": "cdabefdf",
   "metadata": {},
   "outputs": [
    {
     "name": "stdout",
     "output_type": "stream",
     "text": [
      "test data shape (256,)\n",
      "input data shape (160, 256)\n",
      "Target data shape (160, 256)\n"
     ]
    }
   ],
   "source": [
    "input_data = u[0:160,:]\n",
    "target_data = u[1:161, :]\n",
    "\n",
    "test_data = u[160, :]\n",
    "#test_target = u[161:201, :]\n",
    "\n",
    "print(\"test data shape\", test_data.shape)\n",
    "#print(\"test target shape\", test_target.shape)\n",
    "\n",
    "print(\"input data shape\",input_data.shape)\n",
    "print(\"Target data shape\",target_data.shape)"
   ]
  },
  {
   "cell_type": "code",
   "execution_count": 8,
   "id": "b32d98b1",
   "metadata": {},
   "outputs": [
    {
     "name": "stdout",
     "output_type": "stream",
     "text": [
      "input tensor shape torch.Size([1, 160, 256])\n",
      "Target tensor shape torch.Size([1, 160, 256])\n"
     ]
    }
   ],
   "source": [
    "# Convert data to tensors\n",
    "input_tensor = torch.tensor(input_data).view(batch_size, sequence_length, input_size).float()\n",
    "target_tensor = torch.tensor(target_data).view(batch_size, sequence_length, output_size).float()\n",
    "\n",
    "print(\"input tensor shape\",input_tensor.shape)\n",
    "print(\"Target tensor shape\",target_tensor.shape)"
   ]
  },
  {
   "cell_type": "code",
   "execution_count": 9,
   "id": "b4c0af1d",
   "metadata": {},
   "outputs": [],
   "source": [
    "# Convert test data to tensors\n",
    "test_tensor = torch.tensor(test_data).view(batch_size, 1, input_size).float()\n",
    "#test_target_tensor = torch.tensor(test_target).view(batch_size, 40, output_size).float()\n"
   ]
  },
  {
   "cell_type": "code",
   "execution_count": 10,
   "id": "928ae47f",
   "metadata": {},
   "outputs": [
    {
     "name": "stdout",
     "output_type": "stream",
     "text": [
      "Epoch: 10/2000, Loss: 0.478989\n",
      "Epoch: 20/2000, Loss: 0.306083\n",
      "Epoch: 30/2000, Loss: 0.197181\n",
      "Epoch: 40/2000, Loss: 0.131788\n",
      "Epoch: 50/2000, Loss: 0.088712\n",
      "Epoch: 60/2000, Loss: 0.062530\n",
      "Epoch: 70/2000, Loss: 0.047468\n",
      "Epoch: 80/2000, Loss: 0.039097\n",
      "Epoch: 90/2000, Loss: 0.034614\n",
      "Epoch: 100/2000, Loss: 0.032332\n"
     ]
    },
    {
     "name": "stderr",
     "output_type": "stream",
     "text": [
      "/data/localhome/tkapoor/.local/lib/python3.8/site-packages/torch/nn/modules/loss.py:520: UserWarning: Using a target size (torch.Size([1, 160, 256])) that is different to the input size (torch.Size([160, 256])). This will likely lead to incorrect results due to broadcasting. Please ensure they have the same size.\n",
      "  return F.mse_loss(input, target, reduction=self.reduction)\n"
     ]
    },
    {
     "name": "stdout",
     "output_type": "stream",
     "text": [
      "Epoch: 110/2000, Loss: 0.031220\n",
      "Epoch: 120/2000, Loss: 0.030707\n",
      "Epoch: 130/2000, Loss: 0.030486\n",
      "Epoch: 140/2000, Loss: 0.030397\n",
      "Epoch: 150/2000, Loss: 0.030363\n",
      "Epoch: 160/2000, Loss: 0.030350\n",
      "Epoch: 170/2000, Loss: 0.030345\n",
      "Epoch: 180/2000, Loss: 0.030340\n",
      "Epoch: 190/2000, Loss: 0.030325\n",
      "Epoch: 200/2000, Loss: 0.030225\n",
      "Epoch: 210/2000, Loss: 0.029811\n",
      "Epoch: 220/2000, Loss: 0.028870\n",
      "Epoch: 230/2000, Loss: 0.027680\n",
      "Epoch: 240/2000, Loss: 0.026482\n",
      "Epoch: 250/2000, Loss: 0.025352\n",
      "Epoch: 260/2000, Loss: 0.024305\n",
      "Epoch: 270/2000, Loss: 0.023341\n",
      "Epoch: 280/2000, Loss: 0.022450\n",
      "Epoch: 290/2000, Loss: 0.021624\n",
      "Epoch: 300/2000, Loss: 0.020855\n",
      "Epoch: 310/2000, Loss: 0.020137\n",
      "Epoch: 320/2000, Loss: 0.019463\n",
      "Epoch: 330/2000, Loss: 0.018830\n",
      "Epoch: 340/2000, Loss: 0.018234\n",
      "Epoch: 350/2000, Loss: 0.017670\n",
      "Epoch: 360/2000, Loss: 0.017136\n",
      "Epoch: 370/2000, Loss: 0.016629\n",
      "Epoch: 380/2000, Loss: 0.016148\n",
      "Epoch: 390/2000, Loss: 0.015690\n",
      "Epoch: 400/2000, Loss: 0.015253\n",
      "Epoch: 410/2000, Loss: 0.014836\n",
      "Epoch: 420/2000, Loss: 0.014436\n",
      "Epoch: 430/2000, Loss: 0.013979\n",
      "Epoch: 440/2000, Loss: 0.012540\n",
      "Epoch: 450/2000, Loss: 0.011016\n",
      "Epoch: 460/2000, Loss: 0.009700\n",
      "Epoch: 470/2000, Loss: 0.008641\n",
      "Epoch: 480/2000, Loss: 0.007763\n",
      "Epoch: 490/2000, Loss: 0.007041\n",
      "Epoch: 500/2000, Loss: 0.006435\n",
      "Epoch: 510/2000, Loss: 0.005919\n",
      "Epoch: 520/2000, Loss: 0.005473\n",
      "Epoch: 530/2000, Loss: 0.005083\n",
      "Epoch: 540/2000, Loss: 0.004739\n",
      "Epoch: 550/2000, Loss: 0.004432\n",
      "Epoch: 560/2000, Loss: 0.004155\n",
      "Epoch: 570/2000, Loss: 0.003905\n",
      "Epoch: 580/2000, Loss: 0.003676\n",
      "Epoch: 590/2000, Loss: 0.003467\n",
      "Epoch: 600/2000, Loss: 0.003274\n",
      "Epoch: 610/2000, Loss: 0.003096\n",
      "Epoch: 620/2000, Loss: 0.002933\n",
      "Epoch: 630/2000, Loss: 0.002784\n",
      "Epoch: 640/2000, Loss: 0.002647\n",
      "Epoch: 650/2000, Loss: 0.002521\n",
      "Epoch: 660/2000, Loss: 0.002396\n",
      "Epoch: 670/2000, Loss: 0.002284\n",
      "Epoch: 680/2000, Loss: 0.002179\n",
      "Epoch: 690/2000, Loss: 0.002081\n",
      "Epoch: 700/2000, Loss: 0.001989\n",
      "Epoch: 710/2000, Loss: 0.001904\n",
      "Epoch: 720/2000, Loss: 0.001823\n",
      "Epoch: 730/2000, Loss: 0.001748\n",
      "Epoch: 740/2000, Loss: 0.001676\n",
      "Epoch: 750/2000, Loss: 0.001609\n",
      "Epoch: 760/2000, Loss: 0.001546\n",
      "Epoch: 770/2000, Loss: 0.001489\n",
      "Epoch: 780/2000, Loss: 0.001431\n",
      "Epoch: 790/2000, Loss: 0.001378\n",
      "Epoch: 800/2000, Loss: 0.001328\n",
      "Epoch: 810/2000, Loss: 0.001281\n",
      "Epoch: 820/2000, Loss: 0.001236\n",
      "Epoch: 830/2000, Loss: 0.001193\n",
      "Epoch: 840/2000, Loss: 0.001152\n",
      "Epoch: 850/2000, Loss: 0.001114\n",
      "Epoch: 860/2000, Loss: 0.001077\n",
      "Epoch: 870/2000, Loss: 0.001043\n",
      "Epoch: 880/2000, Loss: 0.001031\n",
      "Epoch: 890/2000, Loss: 0.000979\n",
      "Epoch: 900/2000, Loss: 0.000950\n",
      "Epoch: 910/2000, Loss: 0.000921\n",
      "Epoch: 920/2000, Loss: 0.000892\n",
      "Epoch: 930/2000, Loss: 0.000867\n",
      "Epoch: 940/2000, Loss: 0.000841\n",
      "Epoch: 950/2000, Loss: 0.000818\n",
      "Epoch: 960/2000, Loss: 0.000810\n",
      "Epoch: 970/2000, Loss: 0.000788\n",
      "Epoch: 980/2000, Loss: 0.000753\n",
      "Epoch: 990/2000, Loss: 0.000733\n",
      "Epoch: 1000/2000, Loss: 0.000714\n",
      "Epoch: 1010/2000, Loss: 0.000696\n",
      "Epoch: 1020/2000, Loss: 0.000678\n",
      "Epoch: 1030/2000, Loss: 0.000661\n",
      "Epoch: 1040/2000, Loss: 0.000648\n",
      "Epoch: 1050/2000, Loss: 0.000635\n",
      "Epoch: 1060/2000, Loss: 0.000624\n",
      "Epoch: 1070/2000, Loss: 0.000603\n",
      "Epoch: 1080/2000, Loss: 0.000588\n",
      "Epoch: 1090/2000, Loss: 0.000575\n",
      "Epoch: 1100/2000, Loss: 0.000561\n",
      "Epoch: 1110/2000, Loss: 0.000556\n",
      "Epoch: 1120/2000, Loss: 0.000526\n",
      "Epoch: 1130/2000, Loss: 0.000533\n",
      "Epoch: 1140/2000, Loss: 0.000519\n",
      "Epoch: 1150/2000, Loss: 0.000507\n",
      "Epoch: 1160/2000, Loss: 0.000495\n",
      "Epoch: 1170/2000, Loss: 0.000485\n",
      "Epoch: 1180/2000, Loss: 0.000476\n",
      "Epoch: 1190/2000, Loss: 0.000472\n",
      "Epoch: 1200/2000, Loss: 0.000459\n",
      "Epoch: 1210/2000, Loss: 0.000458\n",
      "Epoch: 1220/2000, Loss: 0.000445\n",
      "Epoch: 1230/2000, Loss: 0.000435\n",
      "Epoch: 1240/2000, Loss: 0.000426\n",
      "Epoch: 1250/2000, Loss: 0.000419\n",
      "Epoch: 1260/2000, Loss: 0.000420\n",
      "Epoch: 1270/2000, Loss: 0.000404\n",
      "Epoch: 1280/2000, Loss: 0.000405\n",
      "Epoch: 1290/2000, Loss: 0.000392\n",
      "Epoch: 1300/2000, Loss: 0.000385\n",
      "Epoch: 1310/2000, Loss: 0.000380\n",
      "Epoch: 1320/2000, Loss: 0.000395\n",
      "Epoch: 1330/2000, Loss: 0.000376\n",
      "Epoch: 1340/2000, Loss: 0.000366\n",
      "Epoch: 1350/2000, Loss: 0.000359\n",
      "Epoch: 1360/2000, Loss: 0.000351\n",
      "Epoch: 1370/2000, Loss: 0.000358\n",
      "Epoch: 1380/2000, Loss: 0.000343\n",
      "Epoch: 1390/2000, Loss: 0.000342\n",
      "Epoch: 1400/2000, Loss: 0.000333\n",
      "Epoch: 1410/2000, Loss: 0.000329\n",
      "Epoch: 1420/2000, Loss: 0.000323\n",
      "Epoch: 1430/2000, Loss: 0.000319\n",
      "Epoch: 1440/2000, Loss: 0.000329\n",
      "Epoch: 1450/2000, Loss: 0.000310\n",
      "Epoch: 1460/2000, Loss: 0.000309\n",
      "Epoch: 1470/2000, Loss: 0.000303\n",
      "Epoch: 1480/2000, Loss: 0.000301\n",
      "Epoch: 1490/2000, Loss: 0.000305\n",
      "Epoch: 1500/2000, Loss: 0.000293\n",
      "Epoch: 1510/2000, Loss: 0.000288\n",
      "Epoch: 1520/2000, Loss: 0.000278\n",
      "Epoch: 1530/2000, Loss: 0.000347\n",
      "Epoch: 1540/2000, Loss: 0.000265\n",
      "Epoch: 1550/2000, Loss: 0.000260\n",
      "Epoch: 1560/2000, Loss: 0.000257\n",
      "Epoch: 1570/2000, Loss: 0.000250\n",
      "Epoch: 1580/2000, Loss: 0.000245\n",
      "Epoch: 1590/2000, Loss: 0.000241\n",
      "Epoch: 1600/2000, Loss: 0.000237\n",
      "Epoch: 1610/2000, Loss: 0.000233\n",
      "Epoch: 1620/2000, Loss: 0.000236\n",
      "Epoch: 1630/2000, Loss: 0.000226\n",
      "Epoch: 1640/2000, Loss: 0.000222\n",
      "Epoch: 1650/2000, Loss: 0.000218\n",
      "Epoch: 1660/2000, Loss: 0.000215\n",
      "Epoch: 1670/2000, Loss: 0.000211\n",
      "Epoch: 1680/2000, Loss: 0.000207\n",
      "Epoch: 1690/2000, Loss: 0.000203\n",
      "Epoch: 1700/2000, Loss: 0.000199\n",
      "Epoch: 1710/2000, Loss: 0.000196\n",
      "Epoch: 1720/2000, Loss: 0.000199\n",
      "Epoch: 1730/2000, Loss: 0.000201\n",
      "Epoch: 1740/2000, Loss: 0.000192\n",
      "Epoch: 1750/2000, Loss: 0.000185\n",
      "Epoch: 1760/2000, Loss: 0.000183\n",
      "Epoch: 1770/2000, Loss: 0.000178\n",
      "Epoch: 1780/2000, Loss: 0.000175\n",
      "Epoch: 1790/2000, Loss: 0.000172\n",
      "Epoch: 1800/2000, Loss: 0.000169\n",
      "Epoch: 1810/2000, Loss: 0.000166\n",
      "Epoch: 1820/2000, Loss: 0.000165\n",
      "Epoch: 1830/2000, Loss: 0.000278\n",
      "Epoch: 1840/2000, Loss: 0.000168\n",
      "Epoch: 1850/2000, Loss: 0.000170\n",
      "Epoch: 1860/2000, Loss: 0.000161\n",
      "Epoch: 1870/2000, Loss: 0.000154\n",
      "Epoch: 1880/2000, Loss: 0.000151\n",
      "Epoch: 1890/2000, Loss: 0.000148\n",
      "Epoch: 1900/2000, Loss: 0.000146\n",
      "Epoch: 1910/2000, Loss: 0.000145\n",
      "Epoch: 1920/2000, Loss: 0.000143\n",
      "Epoch: 1930/2000, Loss: 0.000141\n",
      "Epoch: 1940/2000, Loss: 0.000145\n",
      "Epoch: 1950/2000, Loss: 0.000160\n",
      "Epoch: 1960/2000, Loss: 0.000142\n",
      "Epoch: 1970/2000, Loss: 0.000135\n",
      "Epoch: 1980/2000, Loss: 0.000134\n",
      "Epoch: 1990/2000, Loss: 0.000133\n",
      "Epoch: 2000/2000, Loss: 0.000130\n"
     ]
    }
   ],
   "source": [
    "# # Create LEM instance\n",
    "# lem = LEM(input_size, hidden_size, output_size, dt=0.01)\n",
    "\n",
    "# # Loss and optimizer\n",
    "# criterion = nn.MSELoss()\n",
    "# optimizer = torch.optim.Adam(lem.parameters(), lr=0.1)\n",
    "# Create LEM instance :: niche h RNN vala \n",
    "lem = LEM(input_size, hidden_size, output_size, dt=0.1)\n",
    "\n",
    "# Loss and optimizer\n",
    "criterion = nn.MSELoss()\n",
    "optimizer = torch.optim.Adam(lem.parameters(), lr=0.01)\n",
    "\n",
    "\n",
    "\n",
    "# Training loop\n",
    "for epoch in range(num_epochs):\n",
    "    # Forward pass\n",
    "    output = lem(input_tensor)\n",
    "    loss = criterion(output, target_tensor)\n",
    "\n",
    "    # Backward and optimize\n",
    "    optimizer.zero_grad()\n",
    "    loss.backward()\n",
    "    optimizer.step()\n",
    "\n",
    "    # Print progress\n",
    "    if (epoch + 1) % 10 == 0:\n",
    "        print(f'Epoch: {epoch + 1}/{num_epochs}, Loss: {loss.item():.6f}')\n",
    "\n",
    "\n"
   ]
  },
  {
   "cell_type": "markdown",
   "id": "ba3799af",
   "metadata": {},
   "source": [
    "### Exact solution"
   ]
  },
  {
   "cell_type": "code",
   "execution_count": 32,
   "id": "86371afd",
   "metadata": {},
   "outputs": [
    {
     "name": "stdout",
     "output_type": "stream",
     "text": [
      "(1, 256)\n",
      "(1, 201)\n",
      "(201, 256)\n"
     ]
    },
    {
     "name": "stderr",
     "output_type": "stream",
     "text": [
      "/data/localhome/tkapoor/.local/lib/python3.8/site-packages/numpy/ma/core.py:2820: ComplexWarning: Casting complex values to real discards the imaginary part\n",
      "  _data = np.array(data, dtype=dtype, copy=copy,\n",
      "/usr/local/lib/python3.8/dist-packages/matplotlib/contour.py:1180: ComplexWarning: Casting complex values to real discards the imaginary part\n",
      "  self.levels = np.asarray(levels_arg).astype(np.float64)\n"
     ]
    },
    {
     "data": {
      "text/plain": [
       "<Figure size 432x288 with 0 Axes>"
      ]
     },
     "metadata": {},
     "output_type": "display_data"
    },
    {
     "data": {
      "image/png": "[encoded data removed]",
      "text/plain": [
       "<Figure size 1080x360 with 2 Axes>"
      ]
     },
     "metadata": {
      "needs_background": "light"
     },
     "output_type": "display_data"
    }
   ],
   "source": [
    "import numpy as np\n",
    "import matplotlib.pyplot as plt\n",
    "import scipy.io\n",
    "from sklearn.model_selection import train_test_split\n",
    "\n",
    "# Load the .mat file\n",
    "mat_data = scipy.io.loadmat('NLS.mat')\n",
    "\n",
    "# Following is the code to plot the data u vs x and t. u is 256*100\n",
    "# matrix. Use first 75 columns for training and 25 for testing :)\n",
    "\n",
    "# Access the variables stored in the .mat file\n",
    "# The variable names in the .mat file become keys in the loaded dictionary\n",
    "x = mat_data['x']\n",
    "t = mat_data['tt']\n",
    "u1 = mat_data['uu']\n",
    "\n",
    "# Use the loaded variables as needed\n",
    "print(x.shape)\n",
    "print(t.shape)\n",
    "print(u.shape)\n",
    "\n",
    "X, T = np.meshgrid(x, t)\n",
    "# Define custom color levels\n",
    "c_levels = np.linspace(np.min(u1), np.max(u1), 100)\n",
    "\n",
    "# Plot the contour\n",
    "plt.figure()\n",
    "plt.figure(figsize=(15, 5))\n",
    "plt.contourf(T, X, u1.T, levels=c_levels, cmap='coolwarm')\n",
    "plt.xlabel('t')\n",
    "plt.ylabel('x')\n",
    "plt.title('Schrondinger-Equation')\n",
    "plt.colorbar()  # Add a colorbar for the contour levels\n",
    "plt.show()"
   ]
  },
  {
   "cell_type": "code",
   "execution_count": 34,
   "id": "74a36d98",
   "metadata": {},
   "outputs": [
    {
     "data": {
      "text/plain": [
       "array([[0.        , 0.00785398, 0.01570796, 0.02356194, 0.03141593,\n",
       "        0.03926991, 0.04712389, 0.05497787, 0.06283185, 0.07068583,\n",
       "        0.07853982, 0.0863938 , 0.09424778, 0.10210176, 0.10995574,\n",
       "        0.11780972, 0.12566371, 0.13351769, 0.14137167, 0.14922565,\n",
       "        0.15707963, 0.16493361, 0.1727876 , 0.18064158, 0.18849556,\n",
       "        0.19634954, 0.20420352, 0.2120575 , 0.21991149, 0.22776547,\n",
       "        0.23561945, 0.24347343, 0.25132741, 0.25918139, 0.26703538,\n",
       "        0.27488936, 0.28274334, 0.29059732, 0.2984513 , 0.30630528,\n",
       "        0.31415927, 0.32201325, 0.32986723, 0.33772121, 0.34557519,\n",
       "        0.35342917, 0.36128316, 0.36913714, 0.37699112, 0.3848451 ,\n",
       "        0.39269908, 0.40055306, 0.40840704, 0.41626103, 0.42411501,\n",
       "        0.43196899, 0.43982297, 0.44767695, 0.45553093, 0.46338492,\n",
       "        0.4712389 , 0.47909288, 0.48694686, 0.49480084, 0.50265482,\n",
       "        0.51050881, 0.51836279, 0.52621677, 0.53407075, 0.54192473,\n",
       "        0.54977871, 0.5576327 , 0.56548668, 0.57334066, 0.58119464,\n",
       "        0.58904862, 0.5969026 , 0.60475659, 0.61261057, 0.62046455,\n",
       "        0.62831853, 0.63617251, 0.64402649, 0.65188048, 0.65973446,\n",
       "        0.66758844, 0.67544242, 0.6832964 , 0.69115038, 0.69900437,\n",
       "        0.70685835, 0.71471233, 0.72256631, 0.73042029, 0.73827427,\n",
       "        0.74612826, 0.75398224, 0.76183622, 0.7696902 , 0.77754418,\n",
       "        0.78539816, 0.79325215, 0.80110613, 0.80896011, 0.81681409,\n",
       "        0.82466807, 0.83252205, 0.84037603, 0.84823002, 0.856084  ,\n",
       "        0.86393798, 0.87179196, 0.87964594, 0.88749992, 0.89535391,\n",
       "        0.90320789, 0.91106187, 0.91891585, 0.92676983, 0.93462381,\n",
       "        0.9424778 , 0.95033178, 0.95818576, 0.96603974, 0.97389372,\n",
       "        0.9817477 , 0.98960169, 0.99745567, 1.00530965, 1.01316363,\n",
       "        1.02101761, 1.02887159, 1.03672558, 1.04457956, 1.05243354,\n",
       "        1.06028752, 1.0681415 , 1.07599548, 1.08384947, 1.09170345,\n",
       "        1.09955743, 1.10741141, 1.11526539, 1.12311937, 1.13097336,\n",
       "        1.13882734, 1.14668132, 1.1545353 , 1.16238928, 1.17024326,\n",
       "        1.17809725, 1.18595123, 1.19380521, 1.20165919, 1.20951317,\n",
       "        1.21736715, 1.22522113, 1.23307512, 1.2409291 , 1.24878308,\n",
       "        1.25663706, 1.26449104, 1.27234502, 1.28019901, 1.28805299,\n",
       "        1.29590697, 1.30376095, 1.31161493, 1.31946891, 1.3273229 ,\n",
       "        1.33517688, 1.34303086, 1.35088484, 1.35873882, 1.3665928 ,\n",
       "        1.37444679, 1.38230077, 1.39015475, 1.39800873, 1.40586271,\n",
       "        1.41371669, 1.42157068, 1.42942466, 1.43727864, 1.44513262,\n",
       "        1.4529866 , 1.46084058, 1.46869457, 1.47654855, 1.48440253,\n",
       "        1.49225651, 1.50011049, 1.50796447, 1.51581846, 1.52367244,\n",
       "        1.53152642, 1.5393804 , 1.54723438, 1.55508836, 1.56294235,\n",
       "        1.57079633]])"
      ]
     },
     "execution_count": 34,
     "metadata": {},
     "output_type": "execute_result"
    }
   ],
   "source": [
    "t"
   ]
  },
  {
   "cell_type": "code",
   "execution_count": 12,
   "id": "58f3e90d",
   "metadata": {},
   "outputs": [
    {
     "name": "stdout",
     "output_type": "stream",
     "text": [
      "torch.Size([1, 1, 256])\n",
      "torch.Size([1, 40, 256])\n"
     ]
    }
   ],
   "source": [
    "print(test_tensor.shape)\n",
    "prediction_tensor = torch.zeros(1, 40, 256).float()\n",
    "print(prediction_tensor.shape)"
   ]
  },
  {
   "cell_type": "code",
   "execution_count": 13,
   "id": "79d7df2b",
   "metadata": {},
   "outputs": [],
   "source": [
    "with torch.no_grad():\n",
    "    prediction = lem(test_tensor)\n",
    "    prediction = prediction.view(1, 1, 256).float()\n",
    "    prediction_tensor[:, 0, :] = prediction\n",
    "    for i in range(39):\n",
    "        prediction = lem(prediction)\n",
    "        prediction = prediction.view(1, 1, 256).float()\n",
    "        prediction_tensor[:, i+1, :] = prediction\n",
    "        \n"
   ]
  },
  {
   "cell_type": "markdown",
   "id": "e5dcef45",
   "metadata": {},
   "source": [
    "### Errors"
   ]
  },
  {
   "cell_type": "markdown",
   "id": "59c8ee5f",
   "metadata": {},
   "source": [
    "### L2 norm"
   ]
  },
  {
   "cell_type": "code",
   "execution_count": 14,
   "id": "c90a052e",
   "metadata": {},
   "outputs": [
    {
     "data": {
      "text/plain": [
       "torch.Size([1, 1, 256])"
      ]
     },
     "execution_count": 14,
     "metadata": {},
     "output_type": "execute_result"
    }
   ],
   "source": [
    "test_tensor.shape"
   ]
  },
  {
   "cell_type": "code",
   "execution_count": 15,
   "id": "5043b50b",
   "metadata": {},
   "outputs": [
    {
     "name": "stdout",
     "output_type": "stream",
     "text": [
      "(201, 256)\n"
     ]
    }
   ],
   "source": [
    "# true solution\n",
    "h_true = np.abs(u1)\n",
    "h_true = h_true.T\n",
    "print(h_true.shape)"
   ]
  },
  {
   "cell_type": "code",
   "execution_count": 16,
   "id": "8f380e24",
   "metadata": {},
   "outputs": [
    {
     "name": "stdout",
     "output_type": "stream",
     "text": [
      "(40, 256)\n"
     ]
    }
   ],
   "source": [
    "# exact\n",
    "u_test_full = h_true[161:201, :]\n",
    "print(u_test_full.shape)"
   ]
  },
  {
   "cell_type": "code",
   "execution_count": 17,
   "id": "d8f98f3c",
   "metadata": {},
   "outputs": [],
   "source": [
    "# with torch.no_grad():\n",
    "#     prediction = lem(test_tensor)\n",
    "\n",
    "# prediction.shape"
   ]
  },
  {
   "cell_type": "code",
   "execution_count": 18,
   "id": "21fdcc06",
   "metadata": {},
   "outputs": [
    {
     "data": {
      "text/plain": [
       "torch.Size([1, 40, 256])"
      ]
     },
     "execution_count": 18,
     "metadata": {},
     "output_type": "execute_result"
    }
   ],
   "source": [
    "\n",
    "k1 = (prediction_tensor - u_test_full)**2\n",
    "u_test_full_tensor = torch.tensor(u_test_full**2)\n",
    "prediction_tensor.shape"
   ]
  },
  {
   "cell_type": "code",
   "execution_count": 19,
   "id": "203c3e52",
   "metadata": {},
   "outputs": [
    {
     "name": "stdout",
     "output_type": "stream",
     "text": [
      "Relative Error Test:  0.0450293516989239 %\n"
     ]
    }
   ],
   "source": [
    "# Compute the relative L2 error norm (generalization error)\n",
    "relative_error_test = torch.mean(k1)/ torch.mean(u_test_full_tensor)\n",
    "\n",
    "print(\"Relative Error Test: \", relative_error_test.item(), \"%\")"
   ]
  },
  {
   "cell_type": "markdown",
   "id": "8ee7d637",
   "metadata": {},
   "source": [
    "### Max error"
   ]
  },
  {
   "cell_type": "code",
   "execution_count": 20,
   "id": "6563c9c6",
   "metadata": {},
   "outputs": [
    {
     "name": "stdout",
     "output_type": "stream",
     "text": [
      "tensor(0.7530, dtype=torch.float64)\n"
     ]
    }
   ],
   "source": [
    "R_abs = torch.max(prediction_tensor-u_test_full)\n",
    "print(R_abs)"
   ]
  },
  {
   "cell_type": "markdown",
   "id": "0c59e44b",
   "metadata": {},
   "source": [
    "### Explained variance score"
   ]
  },
  {
   "cell_type": "code",
   "execution_count": 21,
   "id": "882528cf",
   "metadata": {},
   "outputs": [
    {
     "name": "stdout",
     "output_type": "stream",
     "text": [
      "Explained Variance Score: 0.9205719579800472\n"
     ]
    }
   ],
   "source": [
    "import torch\n",
    "\n",
    "a = prediction_tensor\n",
    "b = u_test_full\n",
    "# Assuming 'a' is your predicted values (model's predictions) and 'b' is the true values (ground truth)\n",
    "# Make sure 'a' and 'b' are PyTorch tensors\n",
    "b = torch.tensor(b)\n",
    "# Calculate the mean of 'b'\n",
    "mean_b = torch.mean(b)\n",
    "\n",
    "# Calculate the Explained Variance Score\n",
    "numerator = torch.var(b - a)  # Variance of the differences between 'b' and 'a'\n",
    "denominator = torch.var(b)    # Variance of 'b'\n",
    "evs = 1 - numerator / denominator\n",
    "\n",
    "print(\"Explained Variance Score:\", evs.item())\n"
   ]
  },
  {
   "cell_type": "markdown",
   "id": "459a08cf",
   "metadata": {},
   "source": [
    "### Mean absolute error"
   ]
  },
  {
   "cell_type": "code",
   "execution_count": 22,
   "id": "c25e9d74",
   "metadata": {},
   "outputs": [
    {
     "name": "stdout",
     "output_type": "stream",
     "text": [
      "tensor(0.1002, dtype=torch.float64)\n"
     ]
    }
   ],
   "source": [
    "R_mean = torch.mean(torch.abs(prediction_tensor - u_test_full))\n",
    "print(R_mean)"
   ]
  },
  {
   "cell_type": "code",
   "execution_count": 23,
   "id": "f784a4e6",
   "metadata": {},
   "outputs": [],
   "source": [
    "## t= 1.28, 1.5, 1.37"
   ]
  },
  {
   "cell_type": "markdown",
   "id": "dc49e1af",
   "metadata": {},
   "source": [
    "### snapshots"
   ]
  },
  {
   "cell_type": "code",
   "execution_count": 24,
   "id": "cf2b9c48",
   "metadata": {},
   "outputs": [
    {
     "data": {
      "text/plain": [
       "(201, 256)"
      ]
     },
     "execution_count": 24,
     "metadata": {},
     "output_type": "execute_result"
    }
   ],
   "source": [
    "prediction_tensor = torch.squeeze(prediction_tensor)\n",
    "h = np.abs(u)\n",
    "h.shape"
   ]
  },
  {
   "cell_type": "code",
   "execution_count": 25,
   "id": "2eacce42",
   "metadata": {},
   "outputs": [
    {
     "name": "stdout",
     "output_type": "stream",
     "text": [
      "(256, 1)\n",
      "(256, 1)\n"
     ]
    },
    {
     "data": {
      "image/png": "[encoded data removed]",
      "text/plain": [
       "<Figure size 360x360 with 1 Axes>"
      ]
     },
     "metadata": {
      "needs_background": "light"
     },
     "output_type": "display_data"
    }
   ],
   "source": [
    "import matplotlib.pyplot as plt\n",
    "import numpy as np\n",
    "import torch\n",
    "\n",
    "# Create the figure and axis objects with reduced width\n",
    "fig, ax = plt.subplots(figsize=(5, 5))  # You can adjust the width (7 inches) and height (5 inches) as needed\n",
    "\n",
    "# # Make sure the font is Times Roman\n",
    "# plt.rcParams['font.family'] = 'Times New Roman'\n",
    "\n",
    "# # Perform the prediction\n",
    "# with torch.no_grad():\n",
    "#     prediction = lem(test_tensor)\n",
    "\n",
    "final_time_output = prediction_tensor[-38, :]\n",
    "final_out = final_time_output.detach().numpy().reshape(-1, 1)\n",
    "final_true = h[-38, :].reshape(-1, 1)\n",
    "print(final_out.shape)\n",
    "print(final_true.shape)\n",
    "\n",
    "# Plot the data with red and blue lines, one with dotted and one with solid style\n",
    "ax.plot(x.T, final_out, color='red', linestyle='dotted', linewidth=12, label='Prediction')\n",
    "ax.plot(x.T, final_true, color='blue', linestyle='solid', linewidth=7, label='True')\n",
    "\n",
    "# Set the axis labels with bold font weight\n",
    "ax.set_xlabel(r\"${x}$\", fontsize=26, color='black', fontdict={'weight': 'bold'})\n",
    "ax.set_ylabel(r\"${|u(x, t)|}$\", fontsize=26, color='black', fontdict={'weight': 'bold'})\n",
    "\n",
    "# Set the title with bold font weight\n",
    "ax.set_title(r\"${t = 1.28}$\", fontsize=26, color='black', fontweight='bold')\n",
    "\n",
    "# Set the number of ticks for x-axis and y-axis to 3\n",
    "ax.set_xticks([-5, 0, 5])\n",
    "ax.set_yticks([0, 2, 4])\n",
    "\n",
    "# Set tick labels fontweight to bold and increase font size\n",
    "ax.tick_params(axis='both', which='major', labelsize=20, width=2, length=10)\n",
    "\n",
    "# # Set the fontweight for tick labels to bold\n",
    "# for tick in ax.get_xticklabels() + ax.get_yticklabels():\n",
    "#     tick.set_weight('bold')\n",
    "\n",
    "# Set the spines linewidth to bold\n",
    "ax.spines['top'].set_linewidth(2)\n",
    "ax.spines['right'].set_linewidth(2)\n",
    "ax.spines['bottom'].set_linewidth(2)\n",
    "ax.spines['left'].set_linewidth(2)\n",
    "\n",
    "\n",
    "# Increase font size for x and y axis numbers\n",
    "ax.tick_params(axis='both', which='major', labelsize=24)\n",
    "\n",
    "# Set the legend\n",
    "# ax.legend()\n",
    "\n",
    "plt.savefig('LEM_1.28_20.pdf', dpi=500, bbox_inches=\"tight\")\n",
    "\n",
    "# Show the plot\n",
    "plt.show()\n"
   ]
  },
  {
   "cell_type": "code",
   "execution_count": 37,
   "id": "baceeeca",
   "metadata": {},
   "outputs": [
    {
     "name": "stdout",
     "output_type": "stream",
     "text": [
      "(256, 1)\n",
      "(256, 1)\n"
     ]
    },
    {
     "data": {
      "image/png": "[encoded data removed]",
      "text/plain": [
       "<Figure size 360x360 with 1 Axes>"
      ]
     },
     "metadata": {
      "needs_background": "light"
     },
     "output_type": "display_data"
    }
   ],
   "source": [
    "import matplotlib.pyplot as plt\n",
    "import numpy as np\n",
    "import torch\n",
    "\n",
    "# Create the figure and axis objects with reduced width\n",
    "fig, ax = plt.subplots(figsize=(5, 5))  # You can adjust the width (7 inches) and height (5 inches) as needed\n",
    "\n",
    "# # Make sure the font is Times Roman\n",
    "# plt.rcParams['font.family'] = 'Times New Roman'\n",
    "\n",
    "# # Perform the prediction\n",
    "# with torch.no_grad():\n",
    "#     prediction = lem(test_tensor)\n",
    "\n",
    "\n",
    "final_time_output = prediction_tensor[-13, :]\n",
    "final_out = final_time_output.detach().numpy().reshape(-1, 1)\n",
    "final_true = h[-13, :].reshape(-1, 1)\n",
    "print(final_out.shape)\n",
    "print(final_true.shape)\n",
    "\n",
    "# Plot the data with red and blue lines, one with dotted and one with solid style\n",
    "ax.plot(x.T, final_out, color='red', linestyle='dotted', linewidth=12, label='Prediction')\n",
    "ax.plot(x.T, final_true, color='blue', linestyle='solid', linewidth=7, label='True')\n",
    "\n",
    "# Set the axis labels with bold font weight\n",
    "ax.set_xlabel(r\"${x}$\", fontsize=26, color='black', fontdict={'weight': 'bold'})\n",
    "ax.set_ylabel(r\"${u(x, t)}$\", fontsize=26, color='black', fontdict={'weight': 'bold'})\n",
    "\n",
    "# Set the title with bold font weight\n",
    "ax.set_title(r\"${t = 1.5}$\", fontsize=26, color='black', fontweight='bold')\n",
    "\n",
    "# Set the number of ticks for x-axis and y-axis to 3\n",
    "ax.set_xticks([-5, 0, 5])\n",
    "ax.set_yticks([0, 2, 4])\n",
    "\n",
    "# Set tick labels fontweight to bold and increase font size\n",
    "ax.tick_params(axis='both', which='major', labelsize=20, width=2, length=10)\n",
    "\n",
    "# # Set the fontweight for tick labels to bold\n",
    "# for tick in ax.get_xticklabels() + ax.get_yticklabels():\n",
    "#     tick.set_weight('bold')\n",
    "\n",
    "# Set the spines linewidth to bold\n",
    "ax.spines['top'].set_linewidth(2)\n",
    "ax.spines['right'].set_linewidth(2)\n",
    "ax.spines['bottom'].set_linewidth(2)\n",
    "ax.spines['left'].set_linewidth(2)\n",
    "\n",
    "\n",
    "# Increase font size for x and y axis numbers\n",
    "ax.tick_params(axis='both', which='major', labelsize=24)\n",
    "\n",
    "# Set the legend\n",
    "# ax.legend()\n",
    "\n",
    "plt.savefig('LEM_1.5_20.pdf', dpi=500, bbox_inches=\"tight\")\n",
    "\n",
    "# Show the plot\n",
    "plt.show()\n"
   ]
  },
  {
   "cell_type": "markdown",
   "id": "8575833f",
   "metadata": {},
   "source": [
    "### 80-20 contour plot"
   ]
  },
  {
   "cell_type": "code",
   "execution_count": 27,
   "id": "d355ac1f",
   "metadata": {},
   "outputs": [],
   "source": [
    "conc_u = torch.squeeze(input_tensor)"
   ]
  },
  {
   "cell_type": "code",
   "execution_count": 28,
   "id": "cbe2f326",
   "metadata": {},
   "outputs": [],
   "source": [
    "concatenated_tensor = torch.cat((conc_u, prediction_tensor), dim=0)\n",
    "\n",
    "t1 = np.linspace(0, 1.5707 , 200)"
   ]
  },
  {
   "cell_type": "code",
   "execution_count": 36,
   "id": "5010ccd3",
   "metadata": {},
   "outputs": [
    {
     "data": {
      "image/png": "[encoded data removed]",
      "text/plain": [
       "<Figure size 1440x360 with 2 Axes>"
      ]
     },
     "metadata": {
      "needs_background": "light"
     },
     "output_type": "display_data"
    }
   ],
   "source": [
    "import torch\n",
    "import numpy as np\n",
    "import matplotlib.pyplot as plt\n",
    "from matplotlib.ticker import FixedLocator\n",
    "\n",
    "# Assuming you have defined concatenated_tensor as a PyTorch tensor\n",
    "# concatenated_tensor = torch.cat((tensor1, tensor2), dim=0)\n",
    "\n",
    "# Convert concatenated_tensor to a NumPy array\n",
    "concatenated_array = concatenated_tensor.numpy()\n",
    "\n",
    "# Define custom color levels\n",
    "x = np.linspace(-5, 5, concatenated_array.shape[1])  # Replace 0 and 1 with your actual x range\n",
    "t = np.linspace(0, 1.57, concatenated_array.shape[0])  # Replace 0 and 1 with your actual t range\n",
    "X, T = np.meshgrid(x, t1)\n",
    "\n",
    "# Define custom color levels using the minimum and maximum from the NumPy array\n",
    "c_levels = np.linspace(np.min(concatenated_array), np.max(concatenated_array), 400)\n",
    "\n",
    "# Plot the contour with interpolated data\n",
    "plt.figure(figsize=(20, 5))\n",
    "plt.pcolormesh(T, X, concatenated_array, shading='auto', cmap='twilight')\n",
    "\n",
    "# Set the fontweight for axis labels to regular (not bold)\n",
    "plt.xlabel(\"$t$\", fontsize=26)\n",
    "plt.ylabel(\"$x$\", fontsize=26)\n",
    "plt.title(\"$|u(x, t)|$\", fontsize=26)\n",
    "\n",
    "# Set tick labels fontweight to regular (not bold) and increase font size\n",
    "plt.tick_params(axis='both', which='major', labelsize=20, width=3, length=10)\n",
    "\n",
    "# Set the fontweight for tick labels to regular (not bold)\n",
    "for tick in plt.gca().get_xticklabels() + plt.gca().get_yticklabels():\n",
    "    tick.set_weight('normal')\n",
    "\n",
    "# Set the number of ticks for x-axis and y-axis to 5\n",
    "num_ticks = 5\n",
    "x_ticks = np.linspace(np.min(T), np.max(T), num_ticks)\n",
    "y_ticks = np.linspace(np.min(X), np.max(X), num_ticks)\n",
    "\n",
    "plt.gca().xaxis.set_major_locator(FixedLocator(x_ticks))\n",
    "plt.gca().yaxis.set_major_locator(FixedLocator(y_ticks))\n",
    "\n",
    "cbar1 = plt.colorbar()\n",
    "# Set the number of ticks for the color bar with uniformly distributed numbers\n",
    "num_ticks = 5\n",
    "c_ticks = np.linspace(np.min(concatenated_array), np.max(concatenated_array), num_ticks)\n",
    "cbar1.set_ticks(c_ticks)\n",
    "\n",
    "# Set the fontweight and fontsize for color bar tick labels\n",
    "for t in cbar1.ax.get_yticklabels():\n",
    "    t.set_weight('normal')\n",
    "    t.set_fontsize(26)  # Increase the font size for color bar tick labels\n",
    "\n",
    "# Increase the size of numbers on axis and color bar\n",
    "plt.xticks(fontsize=26)\n",
    "plt.yticks(fontsize=26)\n",
    "\n",
    "# Increase the tick size and width of the color bar\n",
    "cbar1.ax.tick_params(axis='both', which='major', labelsize=30, width=3,  length=10)\n",
    "\n",
    "# Add a dotted line at t = 0.8\n",
    "plt.axvline(x=1.26449, color='black', linestyle='dotted', linewidth=5)\n",
    "\n",
    "#plt.savefig('Contour_LEM_20.pdf', dpi=500, bbox_inches=\"tight\")\n",
    "plt.savefig('contour_LEM_20.jpeg', dpi=500, bbox_inches=\"tight\")\n",
    "# Show the plot\n",
    "plt.show()\n"
   ]
  },
  {
   "cell_type": "markdown",
   "id": "69bb6963",
   "metadata": {},
   "source": [
    "### exact contour"
   ]
  },
  {
   "cell_type": "code",
   "execution_count": 35,
   "id": "9d174f94",
   "metadata": {},
   "outputs": [
    {
     "data": {
      "image/png": "[encoded data removed]",
      "text/plain": [
       "<Figure size 1440x360 with 2 Axes>"
      ]
     },
     "metadata": {
      "needs_background": "light"
     },
     "output_type": "display_data"
    }
   ],
   "source": [
    "import torch\n",
    "import numpy as np\n",
    "import matplotlib.pyplot as plt\n",
    "from matplotlib.ticker import FixedLocator\n",
    "\n",
    "# Assuming you have defined concatenated_tensor as a PyTorch tensor\n",
    "# concatenated_tensor = torch.cat((tensor1, tensor2), dim=0)\n",
    "\n",
    "# Convert concatenated_tensor to a NumPy array\n",
    "concatenated_array = h\n",
    "\n",
    "# Define custom color levels\n",
    "x = np.linspace(-5, 5, concatenated_array.shape[1])  # Replace 0 and 1 with your actual x range\n",
    "t = np.linspace(0, 1.57, concatenated_array.shape[0])  # Replace 0 and 1 with your actual t range\n",
    "X, T = np.meshgrid(x, t)\n",
    "\n",
    "# Define custom color levels using the minimum and maximum from the NumPy array\n",
    "c_levels = np.linspace(np.min(concatenated_array), np.max(concatenated_array), 400)\n",
    "\n",
    "# Plot the contour with interpolated data\n",
    "plt.figure(figsize=(20, 5))\n",
    "plt.pcolormesh(T, X, concatenated_array, shading='auto', cmap='twilight')\n",
    "\n",
    "# Set the fontweight for axis labels to regular (not bold)\n",
    "plt.xlabel(\"$t$\", fontsize=26)\n",
    "plt.ylabel(\"$x$\", fontsize=26)\n",
    "plt.title(\"$|u(x, t)|$\", fontsize=26)\n",
    "\n",
    "# Set tick labels fontweight to regular (not bold) and increase font size\n",
    "plt.tick_params(axis='both', which='major', labelsize=20, width=3, length=10)\n",
    "\n",
    "# Set the fontweight for tick labels to regular (not bold)\n",
    "for tick in plt.gca().get_xticklabels() + plt.gca().get_yticklabels():\n",
    "    tick.set_weight('normal')\n",
    "\n",
    "# Set the number of ticks for x-axis and y-axis to 5\n",
    "num_ticks = 5\n",
    "x_ticks = np.linspace(np.min(T), np.max(T), num_ticks)\n",
    "y_ticks = np.linspace(np.min(X), np.max(X), num_ticks)\n",
    "\n",
    "plt.gca().xaxis.set_major_locator(FixedLocator(x_ticks))\n",
    "plt.gca().yaxis.set_major_locator(FixedLocator(y_ticks))\n",
    "\n",
    "cbar1 = plt.colorbar()\n",
    "# Set the number of ticks for the color bar with uniformly distributed numbers\n",
    "num_ticks = 5\n",
    "c_ticks = np.linspace(np.min(concatenated_array), np.max(concatenated_array), num_ticks)\n",
    "cbar1.set_ticks(c_ticks)\n",
    "\n",
    "# Set the fontweight and fontsize for color bar tick labels\n",
    "for t in cbar1.ax.get_yticklabels():\n",
    "    t.set_weight('normal')\n",
    "    t.set_fontsize(26)  # Increase the font size for color bar tick labels\n",
    "\n",
    "# Increase the size of numbers on axis and color bar\n",
    "plt.xticks(fontsize=26)\n",
    "plt.yticks(fontsize=26)\n",
    "\n",
    "# Increase the tick size and width of the color bar\n",
    "cbar1.ax.tick_params(axis='both', which='major', labelsize=30, width=3,  length=10)\n",
    "\n",
    "#plt.savefig('Contour_Exact.pdf', dpi=500, bbox_inches=\"tight\")\n",
    "plt.savefig('contour_exact.jpeg', dpi=500, bbox_inches=\"tight\")\n",
    "# Show the plot\n",
    "plt.show()\n"
   ]
  },
  {
   "cell_type": "code",
   "execution_count": null,
   "id": "717f688f",
   "metadata": {},
   "outputs": [],
   "source": []
  }
 ],
 "metadata": {
  "kernelspec": {
   "display_name": "pytorch",
   "language": "python",
   "name": "pytorch"
  },
  "language_info": {
   "codemirror_mode": {
    "name": "ipython",
    "version": 3
   },
   "file_extension": ".py",
   "mimetype": "text/x-python",
   "name": "python",
   "nbconvert_exporter": "python",
   "pygments_lexer": "ipython3",
   "version": "3.8.10"
  }
 },
 "nbformat": 4,
 "nbformat_minor": 5
}
